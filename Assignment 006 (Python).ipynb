{
 "cells": [
  {
   "cell_type": "code",
   "execution_count": 1,
   "metadata": {},
   "outputs": [
    {
     "name": "stdout",
     "output_type": "stream",
     "text": [
      "Define Object Oriented Programing Language?\n",
      "\n",
      "OBJECT ORIENTED PROGRAMING (OOP) is a paradigm in which real- world objects are which vieweda as seperate entities having their own state which is modefied by build in procedure called methods.\n"
     ]
    }
   ],
   "source": [
    "print(\"Define Object Oriented Programing Language?\\n\")\n",
    "print(\"OBJECT ORIENTED PROGRAMING (OOP) is a paradigm in which real- world objects are which vieweda as seperate entities having their own state which is modefied by build in procedure called methods.\")"
   ]
  },
  {
   "cell_type": "code",
   "execution_count": 7,
   "metadata": {},
   "outputs": [
    {
     "name": "stdout",
     "output_type": "stream",
     "text": [
      "Benefits of OOP\n",
      "\n",
      "1) We can elimate the redundant code and extend the use of existing code. \n",
      "2) Date hiding helps the programmer to build secure programs that cannot be invaded by code in other parts of the program.\n",
      "3) It is possible to have multiple instance of an object co-exist without any interference.\n"
     ]
    }
   ],
   "source": [
    "print(\"Benefits of OOP\\n\")\n",
    "print(\"1) We can elimate the redundant code and extend the use of existing code. \\n2) Date hiding helps the programmer to build secure programs that cannot be invaded by code in other parts of the program.\")\n",
    "print(\"3) It is possible to have multiple instance of an object co-exist without any interference.\")"
   ]
  },
  {
   "cell_type": "code",
   "execution_count": 8,
   "metadata": {},
   "outputs": [
    {
     "name": "stdout",
     "output_type": "stream",
     "text": [
      "Difference B/w Funtion and methods../n\n",
      "In python, a fuction is a code which is defined outside the class and method is a coding which is defined in Class.\n"
     ]
    }
   ],
   "source": [
    "print(\"Difference B/w Funtion and methods../n\")\n",
    "print(\"In python, a fuction is a code which is defined outside the class and method is a coding which is defined in Class.\")"
   ]
  },
  {
   "cell_type": "code",
   "execution_count": 9,
   "metadata": {},
   "outputs": [
    {
     "name": "stdout",
     "output_type": "stream",
     "text": [
      "Define the Following...\n",
      "Class/nObject\n",
      "Attributes\n",
      "Behaviour\n",
      "\n",
      "\n",
      "Class:\n",
      "A category of objects. The class defines all the common properties of the different object that belong to it.\n",
      "\n",
      "Objects:\n",
      "A self contained  entity that consists of both data and procedures to manipulate the data.\n",
      "\n",
      "Attributes:\n",
      "Attributes are the characteristics of the class that help to distinguish it from other classes.\n",
      "\n",
      "Behaviour:\n",
      "A task which is performed by an  object, called behaviour.\n"
     ]
    }
   ],
   "source": [
    "print(\"Define the Following...\\nClass/nObject\\nAttributes\\nBehaviour\\n\\n\")\n",
    "print(\"Class:\\n\"\"A category of objects. The class defines all the common properties of the different object that belong to it.\")\n",
    "print(\"\\nObjects:\\n\"\"A self contained  entity that consists of both data and procedures to manipulate the data.\")\n",
    "print(\"\\nAttributes:\\n\"\"Attributes are the characteristics of the class that help to distinguish it from other classes.\")\n",
    "print(\"\\nBehaviour:\\n\"\"A task which is performed by an  object, called behaviour.\")\n"
   ]
  },
  {
   "cell_type": "code",
   "execution_count": 7,
   "metadata": {},
   "outputs": [
    {
     "name": "stdout",
     "output_type": "stream",
     "text": [
      "Civic\n",
      "Grey\n",
      "Faheem Ashraf\n",
      "REG # 055214\n",
      "1000000\n",
      "\n",
      "\n",
      "Prado\n",
      "Red\n",
      "Saad Ahmed\n",
      "REG # 459965\n",
      "5400000\n",
      "\n",
      "\n",
      "Mercedese\n",
      "Green\n",
      "Arsalan Afzal\n",
      "REG # 778521\n",
      "8800000\n",
      "\n",
      "\n",
      "Corola\n",
      "Blue\n",
      "Irfan Khan\n",
      "REG # 782204\n",
      "4440000\n",
      "\n",
      "\n",
      "Hilux\n",
      "Black\n",
      "Faheem Ashraf\n",
      "REG # 055214\n",
      "8788000\n",
      "\n",
      "\n"
     ]
    }
   ],
   "source": [
    "# Question 5 Make a class named car\n",
    "class Car():\n",
    "    def __init__ (self, car_name , car_color) :\n",
    "        self.car_name = car_name\n",
    "        self.car_color = car_color\n",
    "        self.car_buyer = \"Faheem Ashraf\"\n",
    "        self.car_reg_id = \"REG # 055214\"\n",
    "        self.car_amount = \"1000000\"\n",
    "    \n",
    "    def updatebuyer(self,car_buyer_01):\n",
    "        self.car_buyer = car_buyer_01\n",
    "        \n",
    "    def updatereg(self,car_reg_id_01):\n",
    "        self.car_reg_id = car_reg_id_01\n",
    "        \n",
    "    def updateamount(self,car_amount_01):\n",
    "        self.car_amount = car_amount_01\n",
    "\n",
    "obj_01 = Car(\"Civic\", \"Grey\")\n",
    "print(obj_01.car_name)\n",
    "print(obj_01.car_color)\n",
    "print(obj_01.car_buyer)\n",
    "print(obj_01.car_reg_id)\n",
    "print(obj_01.car_amount)\n",
    "print(\"\\n\")\n",
    "\n",
    "obj_02 = Car(\"Prado\", \"Red\" )\n",
    "print(obj_02.car_name)\n",
    "print(obj_02.car_color)\n",
    "obj_02.updatebuyer(\"Saad Ahmed\")\n",
    "print(obj_02.car_buyer)\n",
    "obj_02.updatereg(\"REG # 459965\")\n",
    "print(obj_02.car_reg_id)\n",
    "obj_02.updateamount(5400000)\n",
    "print(obj_02.car_amount)\n",
    "print(\"\\n\")\n",
    "\n",
    "obj_03 = Car(\"Mercedese\", \"Green\" )\n",
    "print(obj_03.car_name)\n",
    "print(obj_03.car_color)\n",
    "obj_03.updatebuyer(\"Arsalan Afzal\")\n",
    "print(obj_03.car_buyer)\n",
    "obj_03.updatereg(\"REG # 778521\")\n",
    "print(obj_03.car_reg_id)\n",
    "obj_03.updateamount(8800000)\n",
    "print(obj_03.car_amount)\n",
    "print(\"\\n\")\n",
    "\n",
    "obj_04 = Car(\"Corola\", \"Blue\")\n",
    "print(obj_04.car_name)\n",
    "print(obj_04.car_color)\n",
    "obj_04.updatebuyer(\"Irfan Khan\")\n",
    "print(obj_04.car_buyer)\n",
    "obj_04.updatereg(\"REG # 782204\")\n",
    "print(obj_04.car_reg_id)\n",
    "obj_04.updateamount(4440000)\n",
    "print(obj_04.car_amount)\n",
    "print(\"\\n\")\n",
    "\n",
    "obj_05 = Car(\"Hilux\", \"Black\")\n",
    "print(obj_05.car_name)\n",
    "print(obj_05.car_color)\n",
    "obj_04.updatebuyer(\"Arbaz Ajmeri\")\n",
    "print(obj_05.car_buyer)\n",
    "obj_04.updatereg(\"REG # 889987\")\n",
    "print(obj_05.car_reg_id)\n",
    "obj_05.updateamount(8788000)\n",
    "print(obj_05.car_amount)\n",
    "print(\"\\n\")"
   ]
  },
  {
   "cell_type": "code",
   "execution_count": null,
   "metadata": {},
   "outputs": [],
   "source": []
  },
  {
   "cell_type": "code",
   "execution_count": null,
   "metadata": {},
   "outputs": [],
   "source": []
  }
 ],
 "metadata": {
  "kernelspec": {
   "display_name": "Python 3",
   "language": "python",
   "name": "python3"
  },
  "language_info": {
   "codemirror_mode": {
    "name": "ipython",
    "version": 3
   },
   "file_extension": ".py",
   "mimetype": "text/x-python",
   "name": "python",
   "nbconvert_exporter": "python",
   "pygments_lexer": "ipython3",
   "version": "3.7.3"
  }
 },
 "nbformat": 4,
 "nbformat_minor": 4
}
