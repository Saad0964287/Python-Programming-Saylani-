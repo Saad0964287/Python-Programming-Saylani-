{
 "cells": [
  {
   "cell_type": "code",
   "execution_count": 1,
   "metadata": {},
   "outputs": [
    {
     "name": "stdout",
     "output_type": "stream",
     "text": [
      "This Number Is Even  34\n",
      "This Number Is Even  2\n",
      "This Number Is Even  2\n",
      "This Number Is Even  6\n",
      "This Number Is Even  34\n",
      "This Number Is Even  88\n",
      "This Number Is Even  54\n"
     ]
    }
   ],
   "source": [
    "#Print Even Number From list\n",
    "\n",
    "List_Even = [34,2,23,45,2,1,5,6,34,88,54]\n",
    "for a in List_Even:\n",
    "    if (a % 2) == 0:\n",
    "        print(\"This Number Is Even \" , a)"
   ]
  },
  {
   "cell_type": "code",
   "execution_count": null,
   "metadata": {},
   "outputs": [],
   "source": [
    "#Program to chect given word is \"palindrome\" !\n",
    "\n",
    "quantity_01 = str(input(\"Enter Any Word : \"))\n",
    "quantity_02 = reversed(quantity_01)\n",
    "if list(quantity_01) == list(quantity_02) :\n",
    "    print (\"Given Word is Palindrome : \",quantity_01)\n",
    "else :\n",
    "    print(\"Given Word is Not Palindrome : \",quantity_01)"
   ]
  },
  {
   "cell_type": "code",
   "execution_count": 3,
   "metadata": {},
   "outputs": [
    {
     "name": "stdin",
     "output_type": "stream",
     "text": [
      "Enter a number:  8\n"
     ]
    },
    {
     "name": "stdout",
     "output_type": "stream",
     "text": [
      "8 is not a prime number\n"
     ]
    }
   ],
   "source": [
    "# Check Given Number is Prime or not\n",
    "    \n",
    "a = int(input(\"Enter a number: \"))  \n",
    "for i in range(2,a):\n",
    "    if a > 1:  \n",
    "        if (a % i) == 0:\n",
    "            print(a,\"is not a prime number\")   \n",
    "            break\n",
    "        else:  \n",
    "            print(a,\"is a prime number\")  \n",
    "            break"
   ]
  },
  {
   "cell_type": "code",
   "execution_count": 2,
   "metadata": {},
   "outputs": [
    {
     "name": "stdin",
     "output_type": "stream",
     "text": [
      "Enter Any Number for Factorial :  4\n"
     ]
    },
    {
     "name": "stdout",
     "output_type": "stream",
     "text": [
      "The factorial of 4 is 24\n"
     ]
    }
   ],
   "source": [
    "#Fatorial\n",
    "new = int(input(\"Enter Any Number for Factorial : \"))\n",
    "factorial = 1\n",
    "if new < 0:\n",
    "   print(\"You've entered an invalid number ... Try to enter greater than 0...\")\n",
    "elif new == 0:\n",
    "   print(\"The factorial of\" ,new ,\"1\")\n",
    "else:\n",
    "   for i in range(1,new + 1):\n",
    "       factorial = factorial*i\n",
    "   print(\"The factorial of\" ,new , \"is\" , factorial )\n",
    "\n"
   ]
  },
  {
   "cell_type": "code",
   "execution_count": 1,
   "metadata": {},
   "outputs": [
    {
     "name": "stdout",
     "output_type": "stream",
     "text": [
      "[]\n",
      "\n",
      "Options Are ... \n",
      "a) Add values\n",
      "b) Delete values\n",
      "c) Delete All values\n",
      "d) Exit\n",
      "\n"
     ]
    },
    {
     "name": "stdin",
     "output_type": "stream",
     "text": [
      "Choose one option ....\n",
      " a\n",
      "Enter data you want to add ...\n",
      " hamid\n"
     ]
    },
    {
     "name": "stdout",
     "output_type": "stream",
     "text": [
      "\n",
      "\n",
      " ===============================================================\n",
      "\n",
      "\n",
      "['hamid']\n",
      "\n",
      "Options Are ... \n",
      "a) Add values\n",
      "b) Delete values\n",
      "c) Delete All values\n",
      "d) Exit\n",
      "\n"
     ]
    },
    {
     "name": "stdin",
     "output_type": "stream",
     "text": [
      "Choose one option ....\n",
      " a\n",
      "Enter data you want to add ...\n",
      " arsalan\n"
     ]
    },
    {
     "name": "stdout",
     "output_type": "stream",
     "text": [
      "\n",
      "\n",
      " ===============================================================\n",
      "\n",
      "\n",
      "['hamid', 'arsalan']\n",
      "\n",
      "Options Are ... \n",
      "a) Add values\n",
      "b) Delete values\n",
      "c) Delete All values\n",
      "d) Exit\n",
      "\n"
     ]
    },
    {
     "name": "stdin",
     "output_type": "stream",
     "text": [
      "Choose one option ....\n",
      " a\n",
      "Enter data you want to add ...\n",
      " ahmed\n"
     ]
    },
    {
     "name": "stdout",
     "output_type": "stream",
     "text": [
      "\n",
      "\n",
      " ===============================================================\n",
      "\n",
      "\n",
      "['hamid', 'arsalan', 'ahmed']\n",
      "\n",
      "Options Are ... \n",
      "a) Add values\n",
      "b) Delete values\n",
      "c) Delete All values\n",
      "d) Exit\n",
      "\n"
     ]
    },
    {
     "name": "stdin",
     "output_type": "stream",
     "text": [
      "Choose one option ....\n",
      " a\n",
      "Enter data you want to add ...\n",
      " ali\n"
     ]
    },
    {
     "name": "stdout",
     "output_type": "stream",
     "text": [
      "\n",
      "\n",
      " ===============================================================\n",
      "\n",
      "\n",
      "['hamid', 'arsalan', 'ahmed', 'ali']\n",
      "\n",
      "Options Are ... \n",
      "a) Add values\n",
      "b) Delete values\n",
      "c) Delete All values\n",
      "d) Exit\n",
      "\n"
     ]
    },
    {
     "name": "stdin",
     "output_type": "stream",
     "text": [
      "Choose one option ....\n",
      " b\n",
      "Enter data you want to delete ...\n",
      " arsalan\n"
     ]
    },
    {
     "name": "stdout",
     "output_type": "stream",
     "text": [
      "\n",
      "\n",
      " ===============================================================\n",
      "\n",
      "\n",
      "['hamid', 'ahmed', 'ali']\n",
      "\n",
      "Options Are ... \n",
      "a) Add values\n",
      "b) Delete values\n",
      "c) Delete All values\n",
      "d) Exit\n",
      "\n"
     ]
    },
    {
     "name": "stdin",
     "output_type": "stream",
     "text": [
      "Choose one option ....\n",
      " c\n"
     ]
    },
    {
     "name": "stdout",
     "output_type": "stream",
     "text": [
      "\n",
      "\n",
      " ===============================================================\n",
      "\n",
      "\n",
      "[]\n",
      "\n",
      "Options Are ... \n",
      "a) Add values\n",
      "b) Delete values\n",
      "c) Delete All values\n",
      "d) Exit\n",
      "\n"
     ]
    },
    {
     "name": "stdin",
     "output_type": "stream",
     "text": [
      "Choose one option ....\n",
      " d\n"
     ]
    }
   ],
   "source": [
    "# Add items\n",
    "\n",
    "new = []\n",
    "\n",
    "while True:\n",
    "   \n",
    "        print(new)\n",
    "        \n",
    "        print(\"\\nOptions Are ... \")\n",
    "        print( \"a) Add values\")\n",
    "        print( \"b) Delete values\")\n",
    "        print( \"c) Delete All values\")\n",
    "        print( \"d) Exit\\n\")\n",
    "        val1 = str(input(\"Choose one option ....\\n\"))\n",
    "        if val1 == \"a\" :\n",
    "            new.append(input(\"Enter data you want to add ...\\n\"))\n",
    "        elif val1 == \"b\" :\n",
    "            new.remove(input(\"Enter data you want to delete ...\\n\"))\n",
    "        elif val1== \"c\" :\n",
    "            new.clear()\n",
    "        elif val1== \"d\" :\n",
    "            break\n",
    "        else :\n",
    "            print(\"invalid input\")\n",
    "        print(\"\\n\\n ===============================================================\\n\\n\")\n",
    "    "
   ]
  },
  {
   "cell_type": "code",
   "execution_count": 1,
   "metadata": {},
   "outputs": [
    {
     "name": "stdout",
     "output_type": "stream",
     "text": [
      "10 4 66 None\n"
     ]
    }
   ],
   "source": [
    "# Python program to print Even Numbers in a List \n",
    "  \n",
    "def func():\n",
    "    list1 = [10, 21, 4, 45, 66, 93] \n",
    "    for num in list1: \n",
    "        if num % 2 == 0: \n",
    "            print(num, end = \" \")\n",
    "print(func())"
   ]
  },
  {
   "cell_type": "code",
   "execution_count": null,
   "metadata": {},
   "outputs": [],
   "source": []
  }
 ],
 "metadata": {
  "kernelspec": {
   "display_name": "Python 3",
   "language": "python",
   "name": "python3"
  },
  "language_info": {
   "codemirror_mode": {
    "name": "ipython",
    "version": 3
   },
   "file_extension": ".py",
   "mimetype": "text/x-python",
   "name": "python",
   "nbconvert_exporter": "python",
   "pygments_lexer": "ipython3",
   "version": "3.7.3"
  }
 },
 "nbformat": 4,
 "nbformat_minor": 4
}
